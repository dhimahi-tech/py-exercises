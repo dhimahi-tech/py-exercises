{
 "cells": [
  {
   "cell_type": "markdown",
   "metadata": {},
   "source": [
    "This Jupyter python notebook attempts to assess the logical reasoning and programming skills of prospective candidates applying for a software development role at *TenXer technologies*.\n",
    "\n",
    "Duration: 40 minutes\n",
    "\n",
    "Instructions:\n",
    "- *Attempt* all the programming problems in this notebook\n",
    "- Each problem carries *equal weightage*\n",
    "- Emphasis is given to writing clear **Docstrings & modular code (with comments, wherever required)**\n",
    "- It is encouraged that you *commit* your code locally after completing each problem and finally *push* your branch into the shared [GitHub repo](git@github.com:dhimahi-tech/py-exercises.git) before the end of your interview schedule\n",
    "---"
   ]
  },
  {
   "cell_type": "markdown",
   "metadata": {},
   "source": [
    "#### Prerequisites\n",
    "\n",
    "1. Clone the [GitHub repository](git@github.com:dhimahi-tech/py-exercises.git) into your local machine and create a branch in the format **tenxer-[your-first-name]**, example: tenxer-rohit\n",
    "2. Launch Visual Studio Code, [click [Visual Studio](https://code.visualstudio.com/download) link to install, (if required)].\n",
    "3. Open the workspace containing this file and work on the following problems"
   ]
  },
  {
   "cell_type": "markdown",
   "metadata": {},
   "source": [
    "##### Problem 1:\n",
    "\n",
    "Write a function called `gate_opn_not_s1_and_s2` that accepts input voltage range of -5.0V to +5.0V and returns the integer output of the operation such that it satisfies the truth table by clipping voltage to either 0 or 1V.\n",
    "(Assume invisible clipper circuit in the diagram below)\n",
    "\n",
    "![Fig-1](../images/logic-circuits-01.jpg)"
   ]
  },
  {
   "cell_type": "code",
   "execution_count": 4,
   "metadata": {},
   "outputs": [],
   "source": [
    "# Write python 3.x program for function - gate_opn_not_s1_and_s2 in Fig. 1\n",
    "# Example-1: S1 = -5.0, S2 = 1.5 returns 1 V\n",
    "# Example-2: S1 =  5.0, S2 = 5.0 returns 0 V\n",
    "\n"
   ]
  },
  {
   "cell_type": "markdown",
   "metadata": {},
   "source": [
    ">\n",
    "### Please commit your changes locally before attempting the next problem.\n",
    "\n",
    "Write a clear & concise commit message\n",
    "\n",
    "---"
   ]
  },
  {
   "cell_type": "markdown",
   "metadata": {},
   "source": [
    "##### Problem 2:"
   ]
  },
  {
   "cell_type": "markdown",
   "metadata": {},
   "source": [
    "An elevator in our office building serves people between Basement 2 to 6th floor: -2, -1, 0, 1, 2, 3, 4, 5, 6. (See Fig. 2). Write a function `get_stops` that accepts floor numbers into elevator queue in the order pressed by users. Depending on the direction of the elevator cabin (Up/Down), the `get_stops` function should print a list of floors in the order of proximity to the cabin's closest floor (at stationary position).\n",
    "\n",
    "Assumptions (to avoid complexity):\n",
    "  - Our elevator always starts from either **-2 going up OR 6th floor going down**\n",
    "  - Our elevator queue is *not* updated while it is in motion\n",
    "  - Our hypothetical users press the elevator button on their floors in quick succession.\n",
    "\n",
    "Example Output, <br>\n",
    "\n",
    "  | elv. queue | elv. direction | get_stops() |\n",
    "  | ---- | ---- | ---- |\n",
    "  | [-2, 3, 0, 5, 6] | \"Up\" | [-2, 0, 3, 5, 6] |\n",
    "  | [-2, 3, 0, 5, 6] | \"Down\" | [6, 5, 3, 0, -2] |\n",
    "  \n",
    "  \n",
    "\n",
    "![Fig. 2](../images/elevator-queue-02.jpg)"
   ]
  },
  {
   "cell_type": "code",
   "execution_count": null,
   "metadata": {},
   "outputs": [],
   "source": [
    "# Code block #1: Use this block to write your solution to Problem #2\n"
   ]
  },
  {
   "cell_type": "markdown",
   "metadata": {},
   "source": [
    "##### Problem 3:\n",
    "\n",
    "Implement possible unit test cases to validate your solution to problem 2"
   ]
  },
  {
   "cell_type": "code",
   "execution_count": null,
   "metadata": {},
   "outputs": [],
   "source": [
    "# Code block-2: Use this block to implement unit test cases for your solution in code block-1"
   ]
  },
  {
   "cell_type": "markdown",
   "metadata": {},
   "source": [
    ">\n",
    "### Please commit your changes locally before attempting the next problem.\n",
    "\n",
    "Write a clear & concise message to your commit\n",
    "\n",
    "---"
   ]
  },
  {
   "cell_type": "markdown",
   "metadata": {},
   "source": [
    "##### Problem 4:\n",
    "\n",
    "1. Debug the following code, identify the defect and fix it. \n",
    "2. Write your defect analysis.\n",
    "3. There is a coverage gap in below unit test function. Can you attempt to identify and fix it?"
   ]
  },
  {
   "cell_type": "code",
   "execution_count": 7,
   "metadata": {},
   "outputs": [
    {
     "ename": "TypeError",
     "evalue": "'float' object cannot be interpreted as an integer",
     "output_type": "error",
     "traceback": [
      "\u001b[0;31m---------------------------------------------------------------------------\u001b[0m",
      "\u001b[0;31mTypeError\u001b[0m                                 Traceback (most recent call last)",
      "\u001b[1;32m/home/sheshs/Downloads/Temp/consulting/tenxer/sandbox-ext/src/ex-02-p-01.ipynb Cell 13\u001b[0m in \u001b[0;36m<cell line: 16>\u001b[0;34m()\u001b[0m\n\u001b[1;32m     <a href='vscode-notebook-cell:/home/sheshs/Downloads/Temp/consulting/tenxer/sandbox-ext/src/ex-02-p-01.ipynb#ch0000012?line=11'>12</a>\u001b[0m         o \u001b[39m=\u001b[39m gate_opn_not_s1_and_s2(\u001b[39m*\u001b[39m(v, \u001b[39m-\u001b[39mv))\n\u001b[1;32m     <a href='vscode-notebook-cell:/home/sheshs/Downloads/Temp/consulting/tenxer/sandbox-ext/src/ex-02-p-01.ipynb#ch0000012?line=12'>13</a>\u001b[0m         \u001b[39mprint\u001b[39m(\u001b[39m\"\u001b[39m\u001b[39mS1: \u001b[39m\u001b[39m\"\u001b[39m, v, \u001b[39m\"\u001b[39m\u001b[39mV \u001b[39m\u001b[39m\"\u001b[39m, \u001b[39m\"\u001b[39m\u001b[39mS2: \u001b[39m\u001b[39m\"\u001b[39m, \u001b[39m-\u001b[39mv, \u001b[39m\"\u001b[39m\u001b[39mV \u001b[39m\u001b[39m\"\u001b[39m, \u001b[39m\"\u001b[39m\u001b[39mOutput: \u001b[39m\u001b[39m\"\u001b[39m, o, \u001b[39m\"\u001b[39m\u001b[39mV\u001b[39m\u001b[39m\"\u001b[39m)\n\u001b[0;32m---> <a href='vscode-notebook-cell:/home/sheshs/Downloads/Temp/consulting/tenxer/sandbox-ext/src/ex-02-p-01.ipynb#ch0000012?line=15'>16</a>\u001b[0m test_gate_opn_not_s1_and_s2()\n",
      "\u001b[1;32m/home/sheshs/Downloads/Temp/consulting/tenxer/sandbox-ext/src/ex-02-p-01.ipynb Cell 13\u001b[0m in \u001b[0;36mtest_gate_opn_not_s1_and_s2\u001b[0;34m()\u001b[0m\n\u001b[1;32m      <a href='vscode-notebook-cell:/home/sheshs/Downloads/Temp/consulting/tenxer/sandbox-ext/src/ex-02-p-01.ipynb#ch0000012?line=8'>9</a>\u001b[0m \u001b[39mdef\u001b[39;00m \u001b[39mtest_gate_opn_not_s1_and_s2\u001b[39m():\n\u001b[0;32m---> <a href='vscode-notebook-cell:/home/sheshs/Downloads/Temp/consulting/tenxer/sandbox-ext/src/ex-02-p-01.ipynb#ch0000012?line=10'>11</a>\u001b[0m     \u001b[39mfor\u001b[39;00m v \u001b[39min\u001b[39;00m \u001b[39mrange\u001b[39;49m(\u001b[39m-\u001b[39;49m\u001b[39m5.0\u001b[39;49m, \u001b[39m5.1\u001b[39;49m, \u001b[39m0.5\u001b[39;49m):\n\u001b[1;32m     <a href='vscode-notebook-cell:/home/sheshs/Downloads/Temp/consulting/tenxer/sandbox-ext/src/ex-02-p-01.ipynb#ch0000012?line=11'>12</a>\u001b[0m         o \u001b[39m=\u001b[39m gate_opn_not_s1_and_s2(\u001b[39m*\u001b[39m(v, \u001b[39m-\u001b[39mv))\n\u001b[1;32m     <a href='vscode-notebook-cell:/home/sheshs/Downloads/Temp/consulting/tenxer/sandbox-ext/src/ex-02-p-01.ipynb#ch0000012?line=12'>13</a>\u001b[0m         \u001b[39mprint\u001b[39m(\u001b[39m\"\u001b[39m\u001b[39mS1: \u001b[39m\u001b[39m\"\u001b[39m, v, \u001b[39m\"\u001b[39m\u001b[39mV \u001b[39m\u001b[39m\"\u001b[39m, \u001b[39m\"\u001b[39m\u001b[39mS2: \u001b[39m\u001b[39m\"\u001b[39m, \u001b[39m-\u001b[39mv, \u001b[39m\"\u001b[39m\u001b[39mV \u001b[39m\u001b[39m\"\u001b[39m, \u001b[39m\"\u001b[39m\u001b[39mOutput: \u001b[39m\u001b[39m\"\u001b[39m, o, \u001b[39m\"\u001b[39m\u001b[39mV\u001b[39m\u001b[39m\"\u001b[39m)\n",
      "\u001b[0;31mTypeError\u001b[0m: 'float' object cannot be interpreted as an integer"
     ]
    }
   ],
   "source": [
    "\"\"\"\n",
    "Test the logic gate function `gate_opn_not_s1_and_s2` and print results.\n",
    "\n",
    "Args: None\n",
    "\n",
    "Returns: None\n",
    "\"\"\"\n",
    "\n",
    "def test_gate_opn_not_s1_and_s2():\n",
    "        \n",
    "    for v in range(-5.0, 5.1, 0.5):\n",
    "        o = gate_opn_not_s1_and_s2(*(v, -v))\n",
    "        print(\"S1: \", v, \"V \", \"S2: \", -v, \"V \", \"Output: \", o, \"V\")\n",
    "\n",
    "\n",
    "test_gate_opn_not_s1_and_s2()\n"
   ]
  },
  {
   "cell_type": "markdown",
   "metadata": {},
   "source": [
    "> Write your defect analysis between the lines.\n",
    "-------\n",
    "    YOUR DEFECT ANALYSIS GOES HERE.\n",
    "-------"
   ]
  },
  {
   "cell_type": "markdown",
   "metadata": {},
   "source": [
    ">\n",
    "#### Thank you for taking time for this assessment. \n",
    "##### Before closing, we request you to kindly check the following\n",
    "\n",
    "1. Ensure you have written clear & concise messages for your commits. There should be a minimum of 3 commits comprising solutions to the problems #1 thru 4\n",
    "2. Push your branch to the remote repository, click [help](https://docs.github.com/es/enterprise-server@3.2/get-started/using-git/pushing-commits-to-a-remote-repository) for more documentation\n",
    "    \n",
    "    git push `<REMOTENAME>` `<BRANCHNAME>` For Example: git push origin **tenxer-[your-first-name]**\n",
    "\n",
    "3. To delete your local copy of the branch, you may use git branch -d **tenxer-[your-first-name]**\n",
    "\n",
    "### Wish you good luck and we look forward to the next steps in your hiring process\n",
    "---"
   ]
  }
 ],
 "metadata": {
  "kernelspec": {
   "display_name": "Python 3.10.2 64-bit",
   "language": "python",
   "name": "python3"
  },
  "language_info": {
   "codemirror_mode": {
    "name": "ipython",
    "version": 3
   },
   "file_extension": ".py",
   "mimetype": "text/x-python",
   "name": "python",
   "nbconvert_exporter": "python",
   "pygments_lexer": "ipython3",
   "version": "3.10.2"
  },
  "orig_nbformat": 4,
  "vscode": {
   "interpreter": {
    "hash": "7e1998ff7f8aa20ada591c520b972326324e5ea05489af9e422744c7c09f6dad"
   }
  }
 },
 "nbformat": 4,
 "nbformat_minor": 2
}
